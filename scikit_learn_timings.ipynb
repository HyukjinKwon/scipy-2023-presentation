{
 "cells": [
  {
   "cell_type": "markdown",
   "id": "91d24835-d13b-4ac1-b4f2-47925ddb4a2a",
   "metadata": {
    "tags": []
   },
   "source": [
    "# Array API example for LinearDiscriminantAnalysis\n",
    "\n",
    "### This benchmark is ran on a Nvidia GTX 3090 and a AMD 5950x."
   ]
  },
  {
   "cell_type": "code",
   "execution_count": 1,
   "id": "a849ca35-90d9-4783-810d-18250bc021ee",
   "metadata": {},
   "outputs": [],
   "source": [
    "from sklearn.datasets import make_classification\n",
    "from sklearn.discriminant_analysis import LinearDiscriminantAnalysis\n",
    "import numpy as np\n",
    "\n",
    "X_np, y_np = make_classification(random_state=0,\n",
    "                                 n_samples=500_000, n_features=300)\n",
    "X_np, y_np = X_np.astype(np.float32), y_np.astype(np.float32)\n",
    "lda_np = LinearDiscriminantAnalysis()"
   ]
  },
  {
   "cell_type": "code",
   "execution_count": 2,
   "id": "df3f5982-7124-4b7e-8625-9f4b3f0ccce0",
   "metadata": {
    "tags": []
   },
   "outputs": [],
   "source": [
    "from time import perf_counter\n",
    "from functools import wraps\n",
    "\n",
    "\n",
    "def timeit(f):\n",
    "    @wraps(f)\n",
    "    def wrap(*args, **kwargs):\n",
    "        timing_results = []\n",
    "        for _ in range(10):\n",
    "            start = perf_counter()\n",
    "            obj = f(*args, **kwargs)\n",
    "            end = perf_counter()\n",
    "            timing_results.append(end - start)\n",
    "        return (obj, timing_results)\n",
    "    return wrap"
   ]
  },
  {
   "cell_type": "markdown",
   "id": "8eefb285-86e8-4472-ac98-bd292e7e0546",
   "metadata": {},
   "source": [
    "## Fit runtime for NumPy array"
   ]
  },
  {
   "cell_type": "code",
   "execution_count": 5,
   "id": "a1831332-4c8e-4dcf-abdc-f202e747dad1",
   "metadata": {},
   "outputs": [],
   "source": [
    "@timeit\n",
    "def lda_np_fit():\n",
    "    return lda_np.fit(X_np, y_np)"
   ]
  },
  {
   "cell_type": "code",
   "execution_count": 6,
   "id": "0ad52981-e0ca-4c98-ae72-dbd7e3e8e58b",
   "metadata": {
    "tags": []
   },
   "outputs": [],
   "source": [
    "lda_np_fitted, lda_np_fit_results = lda_np_fit()"
   ]
  },
  {
   "cell_type": "code",
   "execution_count": 7,
   "id": "1d6122df-89b0-48c3-91a3-3a5660c13121",
   "metadata": {
    "tags": []
   },
   "outputs": [
    {
     "data": {
      "text/plain": [
       "[10.516187733000152,\n",
       " 10.517151113999716,\n",
       " 10.492884919999597,\n",
       " 10.54027571700044,\n",
       " 10.29059758800031,\n",
       " 10.465045095999812,\n",
       " 10.496740431000035,\n",
       " 10.476105129000644,\n",
       " 10.603008382000553,\n",
       " 10.50459001299987]"
      ]
     },
     "execution_count": 7,
     "metadata": {},
     "output_type": "execute_result"
    }
   ],
   "source": [
    "lda_np_fit_results"
   ]
  },
  {
   "cell_type": "code",
   "execution_count": 8,
   "id": "9f607159-5c5d-457b-802a-63dca5de7ffc",
   "metadata": {},
   "outputs": [],
   "source": [
    "@timeit\n",
    "def lda_np_predict():\n",
    "    return lda_np_fitted.predict(X_np)"
   ]
  },
  {
   "cell_type": "code",
   "execution_count": 9,
   "id": "fbbcd4c2-0622-452c-b1e8-d6e210b70821",
   "metadata": {},
   "outputs": [],
   "source": [
    "_, lda_np_predict_results = lda_np_predict()"
   ]
  },
  {
   "cell_type": "code",
   "execution_count": 10,
   "id": "6f088166-8110-418c-80af-eeb92802298f",
   "metadata": {
    "tags": []
   },
   "outputs": [
    {
     "data": {
      "text/plain": [
       "[0.06625195600008738,\n",
       " 0.05633547100023861,\n",
       " 0.07885743699989689,\n",
       " 0.051483326999914425,\n",
       " 0.051505837999684445,\n",
       " 0.07913585200003581,\n",
       " 0.05169581200061657,\n",
       " 0.051683900999705656,\n",
       " 0.05149076699944999,\n",
       " 0.05165315100020962]"
      ]
     },
     "execution_count": 10,
     "metadata": {},
     "output_type": "execute_result"
    }
   ],
   "source": [
    "lda_np_predict_results"
   ]
  },
  {
   "cell_type": "markdown",
   "id": "d1049837-e4b0-4494-84f7-b5e13f08d979",
   "metadata": {},
   "source": [
    "## Runtime for PyTorch Tensor on CPU"
   ]
  },
  {
   "cell_type": "code",
   "execution_count": 3,
   "id": "533eb684-e901-4f02-a69a-cde47f9194db",
   "metadata": {},
   "outputs": [],
   "source": [
    "import sklearn\n",
    "\n",
    "# Enable ArrayAPI dispatching\n",
    "sklearn.set_config(array_api_dispatch=True)"
   ]
  },
  {
   "cell_type": "code",
   "execution_count": 12,
   "id": "4abbfdc0-1462-46a7-b010-67d3541dba14",
   "metadata": {},
   "outputs": [],
   "source": [
    "import torch\n",
    "\n",
    "X_torch_cpu = torch.asarray(X_np)\n",
    "y_torch_cpu = torch.asarray(y_np)"
   ]
  },
  {
   "cell_type": "code",
   "execution_count": 13,
   "id": "e26bb8a1-1351-44c2-bb44-134b503a6bdd",
   "metadata": {},
   "outputs": [],
   "source": [
    "lda_torch_cpu = LinearDiscriminantAnalysis()"
   ]
  },
  {
   "cell_type": "code",
   "execution_count": 14,
   "id": "2452d076-e6c8-4e93-95af-bdc35cc7e969",
   "metadata": {
    "tags": []
   },
   "outputs": [],
   "source": [
    "@timeit\n",
    "def lda_torch_cpu_fit():\n",
    "    return lda_torch_cpu.fit(X_torch_cpu, y_torch_cpu)"
   ]
  },
  {
   "cell_type": "code",
   "execution_count": 15,
   "id": "2874e1f6-b3d8-43df-87eb-c86ea00bc00f",
   "metadata": {},
   "outputs": [],
   "source": [
    "lda_torch_cpu_fitted, lda_torch_cpu_results = lda_torch_cpu_fit()"
   ]
  },
  {
   "cell_type": "code",
   "execution_count": 16,
   "id": "55972e19-31d9-49a9-a768-9514fae29119",
   "metadata": {
    "tags": []
   },
   "outputs": [
    {
     "data": {
      "text/plain": [
       "[2.1182146410001224,\n",
       " 2.0594991859998117,\n",
       " 2.06829082799959,\n",
       " 2.0687498499992216,\n",
       " 2.0757765140006086,\n",
       " 2.068107881999822,\n",
       " 2.060510852000334,\n",
       " 2.078717444999711,\n",
       " 2.078607035999994,\n",
       " 2.086645089999365]"
      ]
     },
     "execution_count": 16,
     "metadata": {},
     "output_type": "execute_result"
    }
   ],
   "source": [
    "lda_torch_cpu_results"
   ]
  },
  {
   "cell_type": "code",
   "execution_count": 17,
   "id": "188951d7-174e-44a2-a9e1-6e91eb8ef19b",
   "metadata": {
    "tags": []
   },
   "outputs": [],
   "source": [
    "@timeit\n",
    "def lda_torch_cpu_predict():\n",
    "    return lda_torch_cpu_fitted.predict(X_torch_cpu)"
   ]
  },
  {
   "cell_type": "code",
   "execution_count": 18,
   "id": "a84c01b8-31d1-41ee-a569-aafa17b978dc",
   "metadata": {},
   "outputs": [],
   "source": [
    "_, lda_torch_cpu_predict_results = lda_torch_cpu_predict()"
   ]
  },
  {
   "cell_type": "code",
   "execution_count": 19,
   "id": "41aa1660-b698-4497-b0f0-548e9c052c64",
   "metadata": {
    "tags": []
   },
   "outputs": [
    {
     "data": {
      "text/plain": [
       "[0.04787013199984358,\n",
       " 0.044832488999418274,\n",
       " 0.04440974899989669,\n",
       " 0.044075063000491355,\n",
       " 0.04418315399925632,\n",
       " 0.04408434299966757,\n",
       " 0.0439288999996279,\n",
       " 0.043820107000101416,\n",
       " 0.04397405100007745,\n",
       " 0.04404068199983158]"
      ]
     },
     "execution_count": 19,
     "metadata": {},
     "output_type": "execute_result"
    }
   ],
   "source": [
    "lda_torch_cpu_predict_results"
   ]
  },
  {
   "cell_type": "markdown",
   "id": "9f8e7614-3b48-4955-8c02-4883c91fd327",
   "metadata": {
    "tags": []
   },
   "source": [
    "## Runtime for PyTorch Tensor on CUDA"
   ]
  },
  {
   "cell_type": "code",
   "execution_count": 20,
   "id": "56eae76f-1837-48f4-a8f7-ba29c96b7d34",
   "metadata": {},
   "outputs": [],
   "source": [
    "import torch\n",
    "\n",
    "X_torch_cuda = torch.asarray(X_np, device=\"cuda\")\n",
    "y_torch_cuda = torch.asarray(y_np, device=\"cuda\")"
   ]
  },
  {
   "cell_type": "code",
   "execution_count": 21,
   "id": "ea84e268-4ca3-46fe-b5b8-cb5b90799bbe",
   "metadata": {},
   "outputs": [],
   "source": [
    "lda_torch_cuda = LinearDiscriminantAnalysis()"
   ]
  },
  {
   "cell_type": "code",
   "execution_count": 22,
   "id": "f828fcfc-ffc2-4ded-960f-d8151b624def",
   "metadata": {},
   "outputs": [],
   "source": [
    "@timeit\n",
    "def lda_torch_cuda_fit():\n",
    "    estimator = lda_torch_cuda.fit(X_torch_cuda, y_torch_cuda)\n",
    "    torch.cuda.synchronize(device=\"cuda\")\n",
    "    return estimator"
   ]
  },
  {
   "cell_type": "code",
   "execution_count": 92,
   "id": "63da0e07-b1c2-4b20-b555-e721d2fe0937",
   "metadata": {
    "tags": []
   },
   "outputs": [],
   "source": [
    "lda_torch_cuda_fitted, lda_torch_cuda_fit_results = lda_torch_cuda_fit()"
   ]
  },
  {
   "cell_type": "code",
   "execution_count": 93,
   "id": "4330b786-1138-443b-90f1-ad314c568d6b",
   "metadata": {
    "tags": []
   },
   "outputs": [],
   "source": [
    "@timeit\n",
    "def lda_torch_cuda_predict():\n",
    "    results = lda_torch_cuda_fitted.predict(X_torch_cuda)\n",
    "    torch.cuda.synchronize(device=\"cuda\")\n",
    "    return results"
   ]
  },
  {
   "cell_type": "code",
   "execution_count": 94,
   "id": "eba519d0-1be1-44ac-8f78-909055e78c91",
   "metadata": {
    "tags": []
   },
   "outputs": [],
   "source": [
    "_, lda_torch_cuda_predict_results = lda_torch_cuda_predict()"
   ]
  },
  {
   "cell_type": "code",
   "execution_count": null,
   "id": "0fc04c60-59c6-44c2-8caa-77b5d0431091",
   "metadata": {},
   "outputs": [],
   "source": []
  },
  {
   "cell_type": "markdown",
   "id": "6246f8bf-3d64-492d-9b60-94dc78b28e51",
   "metadata": {},
   "source": [
    "## CuPy"
   ]
  },
  {
   "cell_type": "code",
   "execution_count": 6,
   "id": "27e0d677-4fca-4877-a124-50cbb18510f2",
   "metadata": {
    "tags": []
   },
   "outputs": [],
   "source": [
    "import cupy\n",
    "\n",
    "X_cupy = cupy.asarray(X_np)\n",
    "y_cupy = cupy.asarray(y_np)"
   ]
  },
  {
   "cell_type": "code",
   "execution_count": 7,
   "id": "f1ad8a04-9eb6-4e83-90b6-c22916d65f33",
   "metadata": {
    "tags": []
   },
   "outputs": [],
   "source": [
    "lda_cupy = LinearDiscriminantAnalysis()"
   ]
  },
  {
   "cell_type": "code",
   "execution_count": 10,
   "id": "a1b6cbe7-d2ca-4249-a692-c8650a92ae4b",
   "metadata": {
    "tags": []
   },
   "outputs": [],
   "source": [
    "@timeit\n",
    "def lda_cupy_fit():\n",
    "    output = lda_cupy.fit(X_cupy, y_cupy)\n",
    "    cupy.cuda.stream.get_current_stream().synchronize()\n",
    "    return output"
   ]
  },
  {
   "cell_type": "code",
   "execution_count": 11,
   "id": "003d02a2-fdf4-47ec-a5c5-6b06d8117777",
   "metadata": {
    "tags": []
   },
   "outputs": [],
   "source": [
    "lda_cupy_fitted, lda_cupy_fit_results = lda_cupy_fit()"
   ]
  },
  {
   "cell_type": "code",
   "execution_count": 13,
   "id": "a07d50e8-4180-4e62-8a95-7b15c5a18c69",
   "metadata": {
    "tags": []
   },
   "outputs": [
    {
     "data": {
      "text/plain": [
       "[1.1028036239999892,\n",
       " 0.9749162529999467,\n",
       " 0.9745569199999977,\n",
       " 0.9781964599999924,\n",
       " 0.9788154940000027,\n",
       " 0.9781140499999879,\n",
       " 0.9780410449999977,\n",
       " 0.9781301799999937,\n",
       " 0.9780059139999935,\n",
       " 0.9788264559999789]"
      ]
     },
     "execution_count": 13,
     "metadata": {},
     "output_type": "execute_result"
    }
   ],
   "source": [
    "lda_cupy_fit_results"
   ]
  },
  {
   "cell_type": "code",
   "execution_count": 16,
   "id": "858f9424-b0ad-48d9-8016-580e73280f47",
   "metadata": {
    "tags": []
   },
   "outputs": [],
   "source": [
    "@timeit\n",
    "def lda_cupy_predict():\n",
    "    output = lda_cupy_fitted.predict(X_cupy) \n",
    "    cupy.cuda.stream.get_current_stream().synchronize()\n",
    "    return output"
   ]
  },
  {
   "cell_type": "code",
   "execution_count": 17,
   "id": "6ef06857-1351-4103-9a54-f7f6ec4d8762",
   "metadata": {
    "tags": []
   },
   "outputs": [],
   "source": [
    "_, lda_cupy_predict_results = lda_cupy_predict()"
   ]
  },
  {
   "cell_type": "code",
   "execution_count": 18,
   "id": "bf3bbee1-c6b6-42a1-b1b1-ec8842de029c",
   "metadata": {
    "tags": []
   },
   "outputs": [
    {
     "data": {
      "text/plain": [
       "[0.003597356000000218,\n",
       " 0.003332068000020172,\n",
       " 0.003292497999950683,\n",
       " 0.003332806999992499,\n",
       " 0.0032771080000202346,\n",
       " 0.0033315880000373,\n",
       " 0.0032843889999867315,\n",
       " 0.003280116999974325,\n",
       " 0.0032904880000046433,\n",
       " 0.003273288999992019]"
      ]
     },
     "execution_count": 18,
     "metadata": {},
     "output_type": "execute_result"
    }
   ],
   "source": [
    "lda_cupy_predict_results"
   ]
  },
  {
   "cell_type": "code",
   "execution_count": null,
   "id": "6d46ab12-f302-4d1d-8661-dd4a97697cc9",
   "metadata": {},
   "outputs": [],
   "source": []
  },
  {
   "cell_type": "code",
   "execution_count": 20,
   "id": "09371cc1-e20e-4755-8d41-3270fb7a4aac",
   "metadata": {
    "tags": []
   },
   "outputs": [],
   "source": [
    "import pandas as pd\n",
    "import seaborn as sns"
   ]
  },
  {
   "cell_type": "code",
   "execution_count": 26,
   "id": "c0980ae9-9c39-4c81-99eb-b7424464cc46",
   "metadata": {},
   "outputs": [],
   "source": [
    "results = pd.concat(\n",
    "    [\n",
    "        pd.DataFrame({\"duration\": lda_np_fit_results, \"backend\": \"numpy\", \"method\": \"fit\"}),\n",
    "        pd.DataFrame({\"duration\": lda_np_predict_results, \"backend\": \"numpy\", \"method\": \"predict\"}),\n",
    "        pd.DataFrame({\"duration\": lda_torch_cpu_results, \"backend\": \"torch_cpu\", \"method\": \"fit\"}),\n",
    "        pd.DataFrame({\"duration\": lda_torch_cpu_predict_results, \"backend\": \"torch_cpu\", \"method\": \"predict\"}),\n",
    "        pd.DataFrame({\"duration\": lda_torch_cuda_fit_results, \"backend\": \"torch_cuda\", \"method\": \"fit\"}),\n",
    "        pd.DataFrame({\"duration\": lda_torch_cuda_predict_results, \"backend\": \"torch_cuda\", \"method\": \"predict\"}),\n",
    "    ]\n",
    ")"
   ]
  },
  {
   "cell_type": "code",
   "execution_count": 25,
   "id": "4b5409ce-3965-443b-8c9b-23a4a7b1dca1",
   "metadata": {
    "tags": []
   },
   "outputs": [],
   "source": [
    "results.to_csv(\"results_backend.csv\", index=False)"
   ]
  },
  {
   "cell_type": "code",
   "execution_count": 34,
   "id": "ba1b9b46-c558-4710-af1b-adbaf1aacba0",
   "metadata": {},
   "outputs": [
    {
     "data": {
      "image/png": "[encoded data removed]",
      "text/plain": [
       "<Figure size 800x400 with 2 Axes>"
      ]
     },
     "metadata": {},
     "output_type": "display_data"
    }
   ],
   "source": [
    "import matplotlib.pyplot as plt\n",
    "import pandas as pd\n",
    "import seaborn as sns\n",
    "\n",
    "results = pd.read_csv(\"results_backend.csv\")\n",
    "\n",
    "sns.set_theme(context=\"paper\", font_scale=1.4)\n",
    "fig, (ax1, ax2) = plt.subplots(1, 2, figsize=(8, 4), constrained_layout=True, sharey=True)\n",
    "sns.barplot(y=\"backend\", x=\"duration\", data=results[results[\"method\"] == \"fit\"], ax=ax1)\n",
    "ax1.set_xlabel(\"duration (sec)\")\n",
    "ax1.set_title(\"fit\")\n",
    "\n",
    "sns.barplot(y=\"backend\", x=\"duration\", data=results[results[\"method\"] == \"predict\"], ax=ax2)\n",
    "ax2.set_xlabel(\"duration (sec)\")\n",
    "ax2.set_title(\"predict\")\n",
    "fig.savefig(\"results_backend.png\")"
   ]
  },
  {
   "cell_type": "code",
   "execution_count": 15,
   "id": "c05bfa2d-3a2f-4ded-abaa-62e9964e9100",
   "metadata": {
    "tags": []
   },
   "outputs": [],
   "source": [
    "fig.savefig(\"results_backend.png\")"
   ]
  },
  {
   "cell_type": "markdown",
   "id": "24b73a36-a142-48c0-967c-f2e40f14df83",
   "metadata": {},
   "source": [
    "## Check coefs are the same"
   ]
  },
  {
   "cell_type": "code",
   "execution_count": 13,
   "id": "92674019-00ae-4cd7-96ab-1ada7f8dd0c0",
   "metadata": {},
   "outputs": [],
   "source": [
    "import numpy as np\n",
    "\n",
    "np_coef_ = np.asarray(lda_np.coef_)\n",
    "\n",
    "# Is there a bettery way to convert cupy.array_api to a np.ndarray?\n",
    "cu_coef_ = lda_torch_cuda.coef_.cpu().numpy()\n",
    "\n",
    "np.testing.assert_allclose(np_coef_, cu_coef_, atol=1e-3)"
   ]
  }
 ],
 "metadata": {
  "kernelspec": {
   "display_name": "sk1-pytorch (python3)",
   "language": "python",
   "name": "conda-env-sk1-pytorch-py"
  },
  "language_info": {
   "codemirror_mode": {
    "name": "ipython",
    "version": 3
   },
   "file_extension": ".py",
   "mimetype": "text/x-python",
   "name": "python",
   "nbconvert_exporter": "python",
   "pygments_lexer": "ipython3",
   "version": "3.10.9"
  }
 },
 "nbformat": 4,
 "nbformat_minor": 5
}
